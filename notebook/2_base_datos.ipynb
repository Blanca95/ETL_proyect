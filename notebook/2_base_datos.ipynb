{
 "cells": [
  {
   "cell_type": "markdown",
   "metadata": {},
   "source": [
    "# 2. Creación y guardado de base de datos "
   ]
  },
  {
   "cell_type": "markdown",
   "metadata": {},
   "source": [
    "Al final de cada apartado del jupyter notebook anterior acabo guardando los datos de los dataframes en forma de archivos csv. Esos archivos ahora los voy a subir a MOngoDB como colecciones dentro de una nueva base de datos denominada animales"
   ]
  },
  {
   "cell_type": "code",
   "execution_count": 38,
   "metadata": {},
   "outputs": [],
   "source": [
    "#%pip install pymongo\n",
    "import pymongo\n",
    "import csv\n",
    "from pymongo import MongoClient"
   ]
  },
  {
   "cell_type": "code",
   "execution_count": 36,
   "metadata": {},
   "outputs": [
    {
     "data": {
      "text/plain": [
       "MongoClient(host=['localhost:27017'], document_class=dict, tz_aware=False, connect=True)"
      ]
     },
     "execution_count": 36,
     "metadata": {},
     "output_type": "execute_result"
    }
   ],
   "source": [
    "str_conn='mongodb://localhost:27017'  # str_conn por defecto\n",
    "cursor=pymongo.MongoClient(str_conn)\n",
    "cursor"
   ]
  },
  {
   "cell_type": "markdown",
   "metadata": {},
   "source": [
    "Creo la base de datos que la llamo animales"
   ]
  },
  {
   "cell_type": "code",
   "execution_count": 37,
   "metadata": {},
   "outputs": [],
   "source": [
    "db = cursor[\"animales\"] "
   ]
  },
  {
   "cell_type": "markdown",
   "metadata": {},
   "source": [
    "Comienzo a crear cada una de la coleciones, en este caso es medicamentos, con data_meds"
   ]
  },
  {
   "cell_type": "code",
   "execution_count": 41,
   "metadata": {},
   "outputs": [],
   "source": [
    "col = db[\"medicamentos\"]\n",
    "csv_medicamentos = '../data_database/data_meds.csv'"
   ]
  },
  {
   "cell_type": "code",
   "execution_count": 42,
   "metadata": {},
   "outputs": [],
   "source": [
    "with open(csv_medicamentos, \"r\") as archivo:\n",
    "    lector_csv = csv.DictReader(archivo)\n",
    "    for fila in lector_csv:\n",
    "        col.insert_one(fila)"
   ]
  },
  {
   "cell_type": "markdown",
   "metadata": {},
   "source": [
    "Siguiente colección, razas de gatos con razas_gatos"
   ]
  },
  {
   "cell_type": "code",
   "execution_count": 43,
   "metadata": {},
   "outputs": [],
   "source": [
    "col = db[\"razas de gatos\"]\n",
    "csv_razas_gatos = '../data_database/razas_gatos.csv'"
   ]
  },
  {
   "cell_type": "code",
   "execution_count": 44,
   "metadata": {},
   "outputs": [],
   "source": [
    "with open(csv_razas_gatos, \"r\") as archivo:\n",
    "    lector_csv = csv.DictReader(archivo)\n",
    "    for fila in lector_csv:\n",
    "        col.insert_one(fila)"
   ]
  },
  {
   "cell_type": "markdown",
   "metadata": {},
   "source": [
    "Siguiente colección, razas de perros con razas_perros"
   ]
  },
  {
   "cell_type": "code",
   "execution_count": 45,
   "metadata": {},
   "outputs": [],
   "source": [
    "col = db[\"razas de perros\"]\n",
    "csv_razas_perros = '../data_database/razas_perros.csv'"
   ]
  },
  {
   "cell_type": "code",
   "execution_count": 46,
   "metadata": {},
   "outputs": [],
   "source": [
    "with open(csv_razas_perros, \"r\") as archivo:\n",
    "    lector_csv = csv.DictReader(archivo)\n",
    "    for fila in lector_csv:\n",
    "        col.insert_one(fila)"
   ]
  },
  {
   "cell_type": "markdown",
   "metadata": {},
   "source": [
    "Última colección llamada censos madrid, con censos "
   ]
  },
  {
   "cell_type": "code",
   "execution_count": 47,
   "metadata": {},
   "outputs": [],
   "source": [
    "col = db[\"censos madrid\"]\n",
    "csv_censos = '../data_database/censos.csv'"
   ]
  },
  {
   "cell_type": "code",
   "execution_count": 48,
   "metadata": {},
   "outputs": [],
   "source": [
    "with open(csv_censos, \"r\") as archivo:\n",
    "    lector_csv = csv.DictReader(archivo)\n",
    "    for fila in lector_csv:\n",
    "        col.insert_one(fila)"
   ]
  },
  {
   "cell_type": "code",
   "execution_count": 49,
   "metadata": {},
   "outputs": [],
   "source": [
    "cursor.close()"
   ]
  },
  {
   "cell_type": "markdown",
   "metadata": {},
   "source": [
    "![bd](../images/bd_mongo.png)"
   ]
  },
  {
   "cell_type": "markdown",
   "metadata": {},
   "source": [
    "## Resumen"
   ]
  },
  {
   "cell_type": "markdown",
   "metadata": {},
   "source": [
    "Al final de cada apartado del jupyter notebook anterior acabo guardando los datos de los dataframes en forma de archivos csv. Esos archivos ahora los voy a subir a MOngoDB como colecciones dentro de una nueva base de datos denominada animales. Las colecciones se llaman censos madrid, medicamentos, razas de gatos y razas de perros"
   ]
  }
 ],
 "metadata": {
  "kernelspec": {
   "display_name": "clase",
   "language": "python",
   "name": "clase"
  },
  "language_info": {
   "codemirror_mode": {
    "name": "ipython",
    "version": 3
   },
   "file_extension": ".py",
   "mimetype": "text/x-python",
   "name": "python",
   "nbconvert_exporter": "python",
   "pygments_lexer": "ipython3",
   "version": "3.10.13"
  }
 },
 "nbformat": 4,
 "nbformat_minor": 2
}
