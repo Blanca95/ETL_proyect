{
 "cells": [
  {
   "cell_type": "markdown",
   "metadata": {},
   "source": [
    "# Funciones utilizadas en el proyecto"
   ]
  },
  {
   "cell_type": "markdown",
   "metadata": {},
   "source": [
    "- Extraer y transformar datos de un archivo .xml"
   ]
  },
  {
   "cell_type": "code",
   "execution_count": null,
   "metadata": {
    "vscode": {
     "languageId": "plaintext"
    }
   },
   "outputs": [],
   "source": []
  },
  {
   "cell_type": "markdown",
   "metadata": {},
   "source": [
    "- Extraer y transformar datos de una web"
   ]
  },
  {
   "cell_type": "markdown",
   "metadata": {},
   "source": [
    "def crearDriver():\n",
    "    opciones=Options()\n",
    "\n",
    "    opciones.add_experimental_option('excludeSwitches', ['enable-automation'])\n",
    "    opciones.add_experimental_option('useAutomationExtension', False)\n",
    "    opciones.headless=False    # si True, no aperece la ventana (headless=no visible)\n",
    "    opciones.add_argument('--start-maximized')         # comienza maximizado\n",
    "    #opciones.add_argument('user-data-dir=selenium')    # mantiene las cookies\n",
    "    #opciones.add_extension('driver_folder/adblock.crx')       # adblocker\n",
    "    opciones.add_argument('--incognito')\n",
    "    # opciones.add_argument('user-data-dir=cookies')    # mantiene las coockies\n",
    "\n",
    "    driver = webdriver.Chrome(options = opciones)\n",
    "    return driver\n"
   ]
  },
  {
   "cell_type": "code",
   "execution_count": null,
   "metadata": {
    "vscode": {
     "languageId": "plaintext"
    }
   },
   "outputs": [],
   "source": [
    "def extraerRazas(driver, url: str)->list:\n",
    "       driver.get(url)\n",
    "    time.sleep(3)\n",
    "\n",
    "\n",
    "    cookiesButton = driver.find_element(By.XPATH, '//*[@id=\"onetrust-accept-btn-handler\"]')\n",
    "    if cookiesButton:\n",
    "        cookiesButton.click()\n",
    "        time.sleep(2)\n",
    "\n",
    "    razas = []\n",
    "\n",
    "    while True:\n",
    "        gatos = driver.find_elements(By.CLASS_NAME, 'results-view-name')\n",
    "        if not gatos:\n",
    "            break\n",
    "        razas = razas + [e.text for e in gatos] #extend\n",
    "\n",
    "        next_page_button = [x for x in driver.find_element(By.CLASS_NAME, 'pager').find_elements(By.CSS_SELECTOR, 'a') if x.get_attribute('title')=='Go to next page']\n",
    "\n",
    "        if not next_page_button:   # Si no lo encuentra, no hay más páginas\n",
    "            break\n",
    "        try:\n",
    "            next_page_button[0].click()\n",
    "        except:\n",
    "            next_page_button[0].click()\n",
    "        finally:\n",
    "            time.sleep(3)\n",
    "\n",
    "    driver.quit()\n",
    "    return razas"
   ]
  },
  {
   "cell_type": "markdown",
   "metadata": {},
   "source": [
    "- Extraer y transformar datos de un archivo .csv"
   ]
  },
  {
   "cell_type": "markdown",
   "metadata": {},
   "source": []
  }
 ],
 "metadata": {
  "language_info": {
   "name": "python"
  }
 },
 "nbformat": 4,
 "nbformat_minor": 2
}
