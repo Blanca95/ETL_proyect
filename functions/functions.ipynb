{
 "cells": [
  {
   "cell_type": "markdown",
   "metadata": {},
   "source": [
    "# Funciones utilizadas en el proyecto"
   ]
  },
  {
   "cell_type": "markdown",
   "metadata": {},
   "source": [
    "- Extraer y transformar datos de un archivo .xml"
   ]
  },
  {
   "cell_type": "code",
   "execution_count": null,
   "metadata": {
    "vscode": {
     "languageId": "plaintext"
    }
   },
   "outputs": [],
   "source": [
    "def get_prescripcions_esp(bloquePrescripcion: list, especies: list): \n",
    "    prescripciones = []\n",
    "    for prescripcionDict in bloquePrescripcion:\n",
    "        if not 'dosisrecomendadaespecie' in prescripcionDict:\n",
    "            continue\n",
    "        for dosisEspecieDict in prescripcionDict['dosisrecomendadaespecie']: # casi todos los valores eran dict, pero hay algunos str, en este caso los ignoramos y seguimos mirando lso demás\n",
    "            if type(dosisEspecieDict) == str:\n",
    "                continue\n",
    "            if dosisEspecieDict['categoria'] in especies:\n",
    "                prescripciones.append(prescripcionDict)\n",
    "                break\n",
    "    return prescripciones"
   ]
  },
  {
   "cell_type": "code",
   "execution_count": null,
   "metadata": {
    "vscode": {
     "languageId": "plaintext"
    }
   },
   "outputs": [],
   "source": [
    "def dict_meds(prescripciones: list): \n",
    "    Dict_meds_esp = {\n",
    "        \"Medicamento\":[],\n",
    "        \"Comercializado\":[],\n",
    "        \"Especie de destino\":[]\n",
    "        }\n",
    "    for prescripcionDict in prescripciones:\n",
    "        if not 'dosisrecomendadaespecie' in prescripcionDict:\n",
    "            continue\n",
    "        for dosisEspecieDict in prescripcionDict['dosisrecomendadaespecie']:\n",
    "            if type(dosisEspecieDict) == str:\n",
    "                continue\n",
    "            Dict_meds_esp['Medicamento'].append(prescripcionDict['nombre_med'])\n",
    "            Dict_meds_esp['Comercializado'].append(prescripcionDict['comercializado'])\n",
    "            Dict_meds_esp['Especie de destino'].append(dosisEspecieDict['categoria'])\n",
    "            break\n",
    "    return Dict_meds_esp"
   ]
  },
  {
   "cell_type": "markdown",
   "metadata": {},
   "source": [
    "- Extraer y transformar datos de una web"
   ]
  },
  {
   "cell_type": "markdown",
   "metadata": {},
   "source": [
    "def crearDriver():\n",
    "    opciones=Options()\n",
    "    opciones.add_experimental_option('excludeSwitches', ['enable-automation'])\n",
    "    opciones.add_experimental_option('useAutomationExtension', False)\n",
    "    opciones.headless=False    # si True, no aperece la ventana (headless=no visible)\n",
    "    opciones.add_argument('--start-maximized')         # comienza maximizado\n",
    "    opciones.add_argument('--incognito')\n",
    "\n",
    "    driver = webdriver.Chrome(options = opciones)\n",
    "    return driver"
   ]
  },
  {
   "cell_type": "code",
   "execution_count": null,
   "metadata": {
    "vscode": {
     "languageId": "plaintext"
    }
   },
   "outputs": [],
   "source": [
    "def extraerRazas(driver, url: str)->list:\n",
    "       driver.get(url)\n",
    "    time.sleep(3)\n",
    "\n",
    "\n",
    "    cookiesButton = driver.find_element(By.XPATH, '//*[@id=\"onetrust-accept-btn-handler\"]')\n",
    "    if cookiesButton:\n",
    "        cookiesButton.click()\n",
    "        time.sleep(2)\n",
    "\n",
    "    razas = []\n",
    "\n",
    "    while True:\n",
    "        gatos = driver.find_elements(By.CLASS_NAME, 'results-view-name')\n",
    "        if not gatos:\n",
    "            break\n",
    "        razas = razas + [e.text for e in gatos] #extend\n",
    "\n",
    "        next_page_button = [x for x in driver.find_element(By.CLASS_NAME, 'pager').find_elements(By.CSS_SELECTOR, 'a') if x.get_attribute('title')=='Go to next page']\n",
    "\n",
    "        if not next_page_button:   # Si no lo encuentra, no hay más páginas\n",
    "            break\n",
    "        try:\n",
    "            next_page_button[0].click()\n",
    "        except:\n",
    "            next_page_button[0].click()\n",
    "        finally:\n",
    "            time.sleep(3)\n",
    "\n",
    "    driver.quit()\n",
    "    return razas"
   ]
  }
 ],
 "metadata": {
  "language_info": {
   "name": "python"
  }
 },
 "nbformat": 4,
 "nbformat_minor": 2
}
